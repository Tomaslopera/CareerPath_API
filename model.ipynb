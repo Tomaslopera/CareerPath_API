{
 "cells": [
  {
   "cell_type": "code",
   "execution_count": 1,
   "id": "26592cbe",
   "metadata": {},
   "outputs": [
    {
     "name": "stderr",
     "output_type": "stream",
     "text": [
      "/Users/loperatomas410/anaconda3/envs/career-predictor/lib/python3.11/site-packages/tqdm/auto.py:21: TqdmWarning: IProgress not found. Please update jupyter and ipywidgets. See https://ipywidgets.readthedocs.io/en/stable/user_install.html\n",
      "  from .autonotebook import tqdm as notebook_tqdm\n"
     ]
    }
   ],
   "source": [
    "from transformers import pipeline, AutoTokenizer, AutoModelForSequenceClassification"
   ]
  },
  {
   "cell_type": "code",
   "execution_count": 2,
   "id": "77aee5e4",
   "metadata": {},
   "outputs": [
    {
     "name": "stderr",
     "output_type": "stream",
     "text": [
      "Device set to use mps:0\n"
     ]
    }
   ],
   "source": [
    "pipe = pipeline(\"text-classification\", model=\"fazni/distilbert-base-uncased-career-path-prediction\")"
   ]
  },
  {
   "cell_type": "code",
   "execution_count": 3,
   "id": "a030c43b",
   "metadata": {},
   "outputs": [],
   "source": [
    "tokenizer = AutoTokenizer.from_pretrained(\"fazni/distilbert-base-uncased-career-path-prediction\")\n",
    "model = AutoModelForSequenceClassification.from_pretrained(\"fazni/distilbert-base-uncased-career-path-prediction\")"
   ]
  },
  {
   "cell_type": "code",
   "execution_count": 4,
   "id": "0d737ca4",
   "metadata": {},
   "outputs": [
    {
     "name": "stderr",
     "output_type": "stream",
     "text": [
      "Device set to use mps:0\n",
      "/Users/loperatomas410/anaconda3/envs/career-predictor/lib/python3.11/site-packages/transformers/pipelines/text_classification.py:111: UserWarning: `return_all_scores` is now deprecated,  if want a similar functionality use `top_k=None` instead of `return_all_scores=True` or `top_k=1` instead of `return_all_scores=False`.\n",
      "  warnings.warn(\n"
     ]
    },
    {
     "name": "stdout",
     "output_type": "stream",
     "text": [
      "Texto: I am interested in working with data to help businesses make better decisions, I like numbers and creating reports, collaborating with teams to optimize processes.\n",
      "  → Predicción: Cyber Security (score: 0.2353)\n",
      "  Top 3 sugerencias:\n",
      "    Cyber Security: 0.2353\n",
      "    Data Science: 0.1470\n",
      "    Business Analyst: 0.1391\n",
      "--------------------------------------------------------------------------------\n",
      "Texto: I have a curiosity for network vulnerabilities, I enjoy ethical hacking, protecting corporate systems and securing data.\n",
      "  → Predicción: Cyber Security (score: 0.9619)\n",
      "  Top 3 sugerencias:\n",
      "    Cyber Security: 0.9619\n",
      "    Network Engineer: 0.0271\n",
      "    DevOps: 0.0036\n",
      "--------------------------------------------------------------------------------\n",
      "Texto: I love extracting value from large volumes of data, designing pipelines, working with databases, transforming raw data into usable information.\n",
      "  → Predicción: Machine Learning Engineer (score: 0.2873)\n",
      "  Top 3 sugerencias:\n",
      "    Machine Learning Engineer: 0.2873\n",
      "    Data Science: 0.1446\n",
      "    Quality Assurance: 0.1429\n",
      "--------------------------------------------------------------------------------\n",
      "Texto: I enjoy applying statistics, machine learning and visualization to discover patterns in data and presenting insights that change business strategy.\n",
      "  → Predicción: Business Analyst (score: 0.8142)\n",
      "  Top 3 sugerencias:\n",
      "    Business Analyst: 0.8142\n",
      "    Cyber Security: 0.0519\n",
      "    Data Science: 0.0258\n",
      "--------------------------------------------------------------------------------\n",
      "Texto: I want to build predictive models, optimize algorithms, work with neural networks, and deploy them in production.\n",
      "  → Predicción: Machine Learning Engineer (score: 0.3806)\n",
      "  Top 3 sugerencias:\n",
      "    Machine Learning Engineer: 0.3806\n",
      "    Data Science: 0.2106\n",
      "    Cyber Security: 0.1430\n",
      "--------------------------------------------------------------------------------\n",
      "Texto: I enjoy creating mobile apps for iOS and Android, designing user interfaces, working with APIs and rapid development cycles.\n",
      "  → Predicción: Mobile App Developer (score: 0.9340)\n",
      "  Top 3 sugerencias:\n",
      "    Mobile App Developer: 0.9340\n",
      "    Software Engineer: 0.0147\n",
      "    DevOps: 0.0123\n",
      "--------------------------------------------------------------------------------\n",
      "Texto: I am fascinated by routers, switches, network protocols, designing robust telecommunications infrastructure with high availability and low latency.\n",
      "  → Predicción: Network Engineer (score: 0.9342)\n",
      "  Top 3 sugerencias:\n",
      "    Network Engineer: 0.9342\n",
      "    Cyber Security: 0.0553\n",
      "    DevOps: 0.0025\n",
      "--------------------------------------------------------------------------------\n",
      "Texto: I love programming, designing software architectures, collaborating with other developers, and building applications that scale for millions of users.\n",
      "  → Predicción: Software Engineer (score: 0.2662)\n",
      "  Top 3 sugerencias:\n",
      "    Software Engineer: 0.2662\n",
      "    Machine Learning Engineer: 0.2658\n",
      "    Cyber Security: 0.1055\n",
      "--------------------------------------------------------------------------------\n"
     ]
    }
   ],
   "source": [
    "pipe = pipeline(\"text-classification\", model=model, tokenizer=tokenizer, return_all_scores=True)\n",
    "\n",
    "texts = [\n",
    "    \"I am interested in working with data to help businesses make better decisions, I like numbers and creating reports, collaborating with teams to optimize processes.\",\n",
    "    \"I have a curiosity for network vulnerabilities, I enjoy ethical hacking, protecting corporate systems and securing data.\",\n",
    "    \"I love extracting value from large volumes of data, designing pipelines, working with databases, transforming raw data into usable information.\",\n",
    "    \"I enjoy applying statistics, machine learning and visualization to discover patterns in data and presenting insights that change business strategy.\",\n",
    "    \"I want to build predictive models, optimize algorithms, work with neural networks, and deploy them in production.\",\n",
    "    \"I enjoy creating mobile apps for iOS and Android, designing user interfaces, working with APIs and rapid development cycles.\",\n",
    "    \"I am fascinated by routers, switches, network protocols, designing robust telecommunications infrastructure with high availability and low latency.\",\n",
    "    \"I love programming, designing software architectures, collaborating with other developers, and building applications that scale for millions of users.\"\n",
    "]\n",
    "\n",
    "def predict(text):\n",
    "    results = pipe(text)\n",
    "    # results is a list of dicts where each dict has 'label' and 'score'\n",
    "    # Since we used return_all_scores=True, results[0] is list of all label scores\n",
    "    label_scores = results[0]\n",
    "    # Sort by score descending\n",
    "    sorted_labels = sorted(label_scores, key=lambda x: x['score'], reverse=True)\n",
    "    best = sorted_labels[0]\n",
    "    return best['label'], best['score'], sorted_labels[:3]\n",
    "\n",
    "# Ejecutar predicciones\n",
    "for t in texts:\n",
    "    label, score, top3 = predict(t)\n",
    "    print(\"Texto:\", t)\n",
    "    print(f\"  → Predicción: {label} (score: {score:.4f})\")\n",
    "    print(\"  Top 3 sugerencias:\")\n",
    "    for lbl in top3:\n",
    "        print(f\"    {lbl['label']}: {lbl['score']:.4f}\")\n",
    "    print(\"-\" * 80)"
   ]
  }
 ],
 "metadata": {
  "kernelspec": {
   "display_name": "prefect",
   "language": "python",
   "name": "python3"
  },
  "language_info": {
   "codemirror_mode": {
    "name": "ipython",
    "version": 3
   },
   "file_extension": ".py",
   "mimetype": "text/x-python",
   "name": "python",
   "nbconvert_exporter": "python",
   "pygments_lexer": "ipython3",
   "version": "3.13.7"
  }
 },
 "nbformat": 4,
 "nbformat_minor": 5
}
